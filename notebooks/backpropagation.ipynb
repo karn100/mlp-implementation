{
 "cells": [
  {
   "cell_type": "code",
   "execution_count": 5,
   "id": "a1f64591-aad3-464a-9ee5-21583ee77df1",
   "metadata": {},
   "outputs": [],
   "source": [
    "import numpy as np\n",
    "import matplotlib.pyplot as plt\n"
   ]
  },
  {
   "cell_type": "code",
   "execution_count": 6,
   "id": "5f29bb0f-12c9-400a-bfc0-23319fb307ec",
   "metadata": {},
   "outputs": [],
   "source": [
    "def f(x):\n",
    "    return 3*x**2 - 4*x + 5"
   ]
  },
  {
   "cell_type": "code",
   "execution_count": 7,
   "id": "c27ac904-4071-47db-b974-a5c8dc1bc922",
   "metadata": {},
   "outputs": [
    {
     "data": {
      "text/plain": [
       "20.0"
      ]
     },
     "execution_count": 7,
     "metadata": {},
     "output_type": "execute_result"
    }
   ],
   "source": [
    "f(3.0)"
   ]
  },
  {
   "cell_type": "code",
   "execution_count": 8,
   "id": "f0a3cc0c-c098-4a4e-b4c6-640c13fc9260",
   "metadata": {},
   "outputs": [
    {
     "data": {
      "text/plain": [
       "[<matplotlib.lines.Line2D at 0x18457f54bf0>]"
      ]
     },
     "execution_count": 8,
     "metadata": {},
     "output_type": "execute_result"
    },
    {
     "data": {
      "image/png": "[encoded data removed]",
      "text/plain": [
       "<Figure size 640x480 with 1 Axes>"
      ]
     },
     "metadata": {},
     "output_type": "display_data"
    }
   ],
   "source": [
    "xs = np.arange(-5,5,.5)\n",
    "ys = f(xs)\n",
    "plt.plot(xs,ys)"
   ]
  },
  {
   "cell_type": "markdown",
   "id": "fb95b2f4-2d49-4a31-abdb-ec76258d2907",
   "metadata": {},
   "source": [
    "Here , we calculate the slop using this formula below which is says how much we have to climb if we move by distance 'h'. \n",
    "Getting 0.0 means at this given point 'x', we are at a flat surface where we dont have any slop forward or backward."
   ]
  },
  {
   "cell_type": "code",
   "execution_count": 19,
   "id": "4896f1de-fda0-4102-9782-0867775019df",
   "metadata": {},
   "outputs": [
    {
     "data": {
      "text/plain": [
       "0.0"
      ]
     },
     "execution_count": 19,
     "metadata": {},
     "output_type": "execute_result"
    }
   ],
   "source": [
    "h = 0.000000001\n",
    "x = 2/3\n",
    "(f(x + h) - f(x))/h"
   ]
  },
  {
   "cell_type": "code",
   "execution_count": 20,
   "id": "fd5fb751-0cdb-408f-b847-0873c75daf1c",
   "metadata": {},
   "outputs": [
    {
     "name": "stdout",
     "output_type": "stream",
     "text": [
      "6.0\n"
     ]
    }
   ],
   "source": [
    "a = 2.0\n",
    "b = -1.0\n",
    "c = 5.0\n",
    "d = a + b + c\n",
    "print(d)"
   ]
  },
  {
   "cell_type": "code",
   "execution_count": 26,
   "id": "67fed407-7e3f-453f-bdbf-d1387d61d4d3",
   "metadata": {},
   "outputs": [
    {
     "name": "stdout",
     "output_type": "stream",
     "text": [
      "d1 4.0\n",
      "d2 3.999699999999999\n",
      "slop -3.000000000010772\n"
     ]
    }
   ],
   "source": [
    "h = 0.0001\n",
    "\n",
    "a = 2.0\n",
    "b = -3.0\n",
    "c = 10.0\n",
    "d1 = a*b + c\n",
    "a += h\n",
    "d2 = a*b + c\n",
    "print(\"d1\",d1)\n",
    "print(\"d2\",d2)\n",
    "print(\"slop\",(d2 - d1)/h)"
   ]
  },
  {
   "cell_type": "code",
   "execution_count": 55,
   "id": "c7be3524-ec6c-42c5-bc7e-6128e07e62cb",
   "metadata": {},
   "outputs": [
    {
     "data": {
      "text/plain": [
       "{Value(data=-6.0), Value(data=10.0)}"
      ]
     },
     "execution_count": 55,
     "metadata": {},
     "output_type": "execute_result"
    }
   ],
   "source": [
    "class Value:\n",
    "    def __init__(self,data,_children=()):\n",
    "        self.data = data\n",
    "        self._prev = set(_children)\n",
    "    def __repr__(self):    # represent the value to developer , if not used then value will be shown something like this :<__main__.Value object at 0x0000024A4B3EFB20>\n",
    "        return f\"Value(data={self.data})\"\n",
    "    def __add__(self,other):  # this represent add function \n",
    "        out = Value(self.data + other.data, (self,other))\n",
    "        return out\n",
    "    def __mul__(self,other): #this represents multiply function\n",
    "        out = Value(self.data * other.data, (self,other))\n",
    "        return out\n",
    "        \n",
    "\n",
    "a = Value(2.0)\n",
    "a\n",
    "b = Value(-3.0)\n",
    "c = Value(10.0)\n",
    "d = a*b + c\n",
    "d\n",
    "d._prev"
   ]
  },
  {
   "cell_type": "raw",
   "id": "5f6886de-f634-4017-a662-ec0382089772",
   "metadata": {},
   "source": []
  },
  {
   "cell_type": "raw",
   "id": "1d8953c3-8afd-4bca-87f3-18617c05a08a",
   "metadata": {},
   "source": [
    "Abobe is the computational graph of how thses all functions work .\n",
    "_children = It act as a parent node which stores all the inputs. It remembers all the values used for operations like mul,add,etc\n",
    "_prev = "
   ]
  }
 ],
 "metadata": {
  "kernelspec": {
   "display_name": "Python 3 (ipykernel)",
   "language": "python",
   "name": "python3"
  },
  "language_info": {
   "codemirror_mode": {
    "name": "ipython",
    "version": 3
   },
   "file_extension": ".py",
   "mimetype": "text/x-python",
   "name": "python",
   "nbconvert_exporter": "python",
   "pygments_lexer": "ipython3",
   "version": "3.12.4"
  }
 },
 "nbformat": 4,
 "nbformat_minor": 5
}
