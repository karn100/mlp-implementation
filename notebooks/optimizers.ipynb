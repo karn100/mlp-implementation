{
 "cells": [
  {
   "cell_type": "code",
   "execution_count": 2,
   "id": "a2bf9a70-9a44-4266-870e-d1281e723aec",
   "metadata": {},
   "outputs": [],
   "source": [
    "import numpy as np\n",
    "import matplotlib.pyplot as plt"
   ]
  },
  {
   "cell_type": "code",
   "execution_count": 9,
   "id": "69469445-d2ca-4981-8b80-90a968412993",
   "metadata": {},
   "outputs": [
    {
     "name": "stdout",
     "output_type": "stream",
     "text": [
      "epoch1: theta:4.0000, grad:10.0000, velocity: 10.0000\n",
      "epoch2: theta:2.3000, grad:8.0000, velocity: 17.0000\n",
      "epoch3: theta:0.3100, grad:4.6000, velocity: 19.9000\n",
      "epoch4: theta:-1.5430, grad:0.6200, velocity: 18.5300\n",
      "epoch5: theta:-2.9021, grad:-3.0860, velocity: 13.5910\n",
      "epoch6: theta:-3.5449, grad:-5.8042, velocity: 6.4277\n",
      "epoch7: theta:-3.4144, grad:-7.0897, velocity: -1.3048\n",
      "epoch8: theta:-2.6141, grad:-6.8288, velocity: -8.0031\n",
      "epoch9: theta:-1.3710, grad:-5.2282, velocity: -12.4310\n",
      "epoch10: theta:0.0220, grad:-2.7420, velocity: -13.9298\n",
      "epoch11: theta:1.2713, grad:0.0440, velocity: -12.4928\n",
      "epoch12: theta:2.1414, grad:2.5426, velocity: -8.7010\n",
      "epoch13: theta:2.4962, grad:4.2828, velocity: -3.5481\n",
      "epoch14: theta:2.3163, grad:4.9924, velocity: 1.7991\n",
      "epoch15: theta:1.6911, grad:4.6326, velocity: 6.2517\n",
      "epoch16: theta:0.7902, grad:3.3822, velocity: 9.0088\n",
      "epoch17: theta:-0.1786, grad:1.5805, velocity: 9.6884\n",
      "epoch18: theta:-1.0148, grad:-0.3572, velocity: 8.3623\n",
      "epoch19: theta:-1.5645, grad:-2.0297, velocity: 5.4964\n",
      "epoch20: theta:-1.7463, grad:-3.1290, velocity: 1.8178\n"
     ]
    }
   ],
   "source": [
    "def grad(theta):\n",
    "    return 2*theta\n",
    "\n",
    "eta = 0.1\n",
    "beta = 0.9\n",
    "\n",
    "v = 0.0\n",
    "theta = 5.0\n",
    "epochs = 20\n",
    "\n",
    "for i in range(epochs):\n",
    "    g = grad(theta)\n",
    "    v = beta * v +  g\n",
    "    theta = theta - eta* v\n",
    "\n",
    "    print(f\"epoch{i + 1}: theta:{theta:.4f}, grad:{g:.4f}, velocity: {v:.4f}\")\n",
    "\n",
    "\n"
   ]
  },
  {
   "cell_type": "code",
   "execution_count": null,
   "id": "8c6340af-c1aa-48e2-8f88-896f7112a2d8",
   "metadata": {},
   "outputs": [],
   "source": []
  }
 ],
 "metadata": {
  "kernelspec": {
   "display_name": "Python 3 (ipykernel)",
   "language": "python",
   "name": "python3"
  },
  "language_info": {
   "codemirror_mode": {
    "name": "ipython",
    "version": 3
   },
   "file_extension": ".py",
   "mimetype": "text/x-python",
   "name": "python",
   "nbconvert_exporter": "python",
   "pygments_lexer": "ipython3",
   "version": "3.12.4"
  }
 },
 "nbformat": 4,
 "nbformat_minor": 5
}
